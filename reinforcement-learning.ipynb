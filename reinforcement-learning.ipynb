{
  "nbformat": 4,
  "nbformat_minor": 0,
  "metadata": {
    "colab": {
      "provenance": [],
      "include_colab_link": true
    },
    "kernelspec": {
      "name": "python3",
      "display_name": "Python 3"
    },
    "language_info": {
      "name": "python"
    }
  },
  "cells": [
    {
      "cell_type": "markdown",
      "metadata": {
        "id": "view-in-github",
        "colab_type": "text"
      },
      "source": [
        "<a href=\"https://colab.research.google.com/github/Boro2001/reinforcement-learning/blob/main/reinforcement-learning.ipynb\" target=\"_parent\"><img src=\"https://colab.research.google.com/assets/colab-badge.svg\" alt=\"Open In Colab\"/></a>"
      ]
    },
    {
      "cell_type": "code",
      "execution_count": 1,
      "metadata": {
        "id": "LBilz2lAx2Ms",
        "colab": {
          "base_uri": "https://localhost:8080/"
        },
        "outputId": "2164e34f-2a6e-43a9-a315-3bcc0f78948d"
      },
      "outputs": [
        {
          "output_type": "stream",
          "name": "stdout",
          "text": [
            "Looking in indexes: https://pypi.org/simple, https://us-python.pkg.dev/colab-wheels/public/simple/\n",
            "Collecting pettingzoo\n",
            "  Downloading pettingzoo-1.23.0-py3-none-any.whl (826 kB)\n",
            "\u001b[2K     \u001b[90m━━━━━━━━━━━━━━━━━━━━━━━━━━━━━━━━━━━━━━\u001b[0m \u001b[32m826.8/826.8 kB\u001b[0m \u001b[31m10.9 MB/s\u001b[0m eta \u001b[36m0:00:00\u001b[0m\n",
            "\u001b[?25hRequirement already satisfied: numpy>=1.21.0 in /usr/local/lib/python3.10/dist-packages (from pettingzoo) (1.22.4)\n",
            "Collecting gymnasium>=0.28.0 (from pettingzoo)\n",
            "  Downloading gymnasium-0.28.1-py3-none-any.whl (925 kB)\n",
            "\u001b[2K     \u001b[90m━━━━━━━━━━━━━━━━━━━━━━━━━━━━━━━━━━━━━━\u001b[0m \u001b[32m925.5/925.5 kB\u001b[0m \u001b[31m29.7 MB/s\u001b[0m eta \u001b[36m0:00:00\u001b[0m\n",
            "\u001b[?25hCollecting jax-jumpy>=1.0.0 (from gymnasium>=0.28.0->pettingzoo)\n",
            "  Downloading jax_jumpy-1.0.0-py3-none-any.whl (20 kB)\n",
            "Requirement already satisfied: cloudpickle>=1.2.0 in /usr/local/lib/python3.10/dist-packages (from gymnasium>=0.28.0->pettingzoo) (2.2.1)\n",
            "Requirement already satisfied: typing-extensions>=4.3.0 in /usr/local/lib/python3.10/dist-packages (from gymnasium>=0.28.0->pettingzoo) (4.5.0)\n",
            "Collecting farama-notifications>=0.0.1 (from gymnasium>=0.28.0->pettingzoo)\n",
            "  Downloading Farama_Notifications-0.0.4-py3-none-any.whl (2.5 kB)\n",
            "Installing collected packages: farama-notifications, jax-jumpy, gymnasium, pettingzoo\n",
            "Successfully installed farama-notifications-0.0.4 gymnasium-0.28.1 jax-jumpy-1.0.0 pettingzoo-1.23.0\n"
          ]
        }
      ],
      "source": [
        "# Reinforcement learning with tensorflow\n",
        "!pip install pettingzoo\n",
        "from pettingzoo.sisl import pursuit_v4\n",
        "import tensorflow as tf\n",
        "import numpy as np\n",
        "import keras\n",
        "from collections import deque\n",
        "\n",
        "\n",
        "TRAIN = False\n",
        "ENV_NAME = 'Pursuit-v4'\n",
        "\n",
        "env = pursuit_v4.env(\n",
        "    max_cycles=500,\n",
        "    x_size=16,\n",
        "    y_size=16,\n",
        "    shared_reward=True,\n",
        "    n_evaders=30,\n",
        "    n_pursuers=1,\n",
        "    obs_range=7,\n",
        "    n_catch=2,\n",
        "    freeze_evaders=False,\n",
        "    tag_reward=0.01,\n",
        "    catch_reward=5.0,\n",
        "    urgency_reward=-0.1,\n",
        "    surround=True,\n",
        "    constraint_window=1.0,\n",
        "    # render_mode='human'\n",
        "    )\n",
        "\n",
        "tf.random.set_seed(42)  # extra code – ensures reproducibility on the CPU\n",
        "num_actions = env.action_space(env.possible_agents[0]).n\n",
        "observation_size = env.observation_space(env.possible_agents[0]).shape\n",
        "\n",
        "model = tf.keras.Sequential([\n",
        "    tf.keras.layers.Flatten(input_shape=observation_size),\n",
        "    tf.keras.layers.Dense(32, activation=\"elu\"),\n",
        "    tf.keras.layers.Dense(32, activation=\"elu\"),\n",
        "    tf.keras.layers.Dense(num_actions)\n",
        "])\n"
      ]
    },
    {
      "cell_type": "code",
      "source": [
        "model.summary()"
      ],
      "metadata": {
        "colab": {
          "base_uri": "https://localhost:8080/"
        },
        "id": "72kICkhYOv7-",
        "outputId": "57b9e628-c4a1-4dc7-ab53-2c4bcc05ac31"
      },
      "execution_count": 2,
      "outputs": [
        {
          "output_type": "stream",
          "name": "stdout",
          "text": [
            "Model: \"sequential\"\n",
            "_________________________________________________________________\n",
            " Layer (type)                Output Shape              Param #   \n",
            "=================================================================\n",
            " flatten (Flatten)           (None, 147)               0         \n",
            "                                                                 \n",
            " dense (Dense)               (None, 32)                4736      \n",
            "                                                                 \n",
            " dense_1 (Dense)             (None, 32)                1056      \n",
            "                                                                 \n",
            " dense_2 (Dense)             (None, 5)                 165       \n",
            "                                                                 \n",
            "=================================================================\n",
            "Total params: 5,957\n",
            "Trainable params: 5,957\n",
            "Non-trainable params: 0\n",
            "_________________________________________________________________\n"
          ]
        }
      ]
    },
    {
      "cell_type": "code",
      "source": [
        "env.reset()\n",
        "\n",
        "for agent in env.agent_iter():\n",
        "    observation, reward, termination, truncation, info = env.last() ########\n",
        "\n",
        "\n",
        "    if termination or truncation:\n",
        "        action = None\n",
        "    else:\n",
        "        action = env.action_space(agent).sample()\n",
        "    env.step(action)\n",
        "env.close()\n"
      ],
      "metadata": {
        "id": "Cq4w1mrLA7dM"
      },
      "execution_count": 3,
      "outputs": []
    },
    {
      "cell_type": "code",
      "source": [
        "def epsilon_greedy_policy(state, epsilon=0):\n",
        "    if np.random.rand() < epsilon:\n",
        "        return np.random.randint(num_actions)  # random action\n",
        "    else:\n",
        "        Q_values = model.predict(state[np.newaxis], verbose=1)[0]\n",
        "        return Q_values.argmax()  # optimal action according to the DQN\n",
        "\n",
        "from collections import deque\n",
        "replay_buffer = deque(maxlen=2000)\n",
        "# extra code – A basic circular buffer implementation\n",
        "class ReplayBuffer:\n",
        "    def __init__(self, max_size):\n",
        "        self.buffer = np.empty(max_size, dtype=object)\n",
        "        self.max_size = max_size\n",
        "        self.index = 0\n",
        "        self.size = 0\n",
        "\n",
        "    def append(self, obj):\n",
        "        self.buffer[self.index] = obj\n",
        "        self.size = min(self.size + 1, self.max_size)\n",
        "        self.index = (self.index + 1) % self.max_size\n",
        "\n",
        "    def sample(self, batch_size):\n",
        "        indices = np.random.randint(self.size, size=batch_size)\n",
        "        return self.buffer[indices]"
      ],
      "metadata": {
        "id": "mn6a4cFOA45N"
      },
      "execution_count": 4,
      "outputs": []
    },
    {
      "cell_type": "code",
      "source": [
        "def sample_experiences(batch_size):\n",
        "    indices = np.random.randint(len(replay_buffer), size=batch_size)\n",
        "    batch = [replay_buffer[index] for index in indices]\n",
        "    return [\n",
        "        np.array([experience[field_index] for experience in batch])\n",
        "        for field_index in range(6)\n",
        "    ]  # [states, actions, rewards, next_states, dones, truncateds]\n",
        "\n",
        "def play_one_step(env, state, epsilon, agent_id):\n",
        "    dead = env.truncations[agent_id] or env.terminations[agent_id]\n",
        "    if dead:\n",
        "        next_state, reward, done, truncated, info = env.last()\n",
        "        action = None\n",
        "        env.step(action)\n",
        "        return next_state, reward, done, truncated, info\n",
        "    else:\n",
        "        action = epsilon_greedy_policy(state, epsilon)\n",
        "    #print(\"action\",action)\n",
        "    #print(\"truncated: \",env.truncations[agent_id])\n",
        "    env.step(action)\n",
        "    #next_state, reward, done, truncated, info = env.last() # TODO: do zmiany (step zmienia agenta)\n",
        "    \n",
        "    next_state = env.observe(agent_id)\n",
        "    reward = env.rewards[agent_id]\n",
        "    done = env.terminations[agent_id]\n",
        "    truncated = env.truncations[agent_id]\n",
        "    info = env.infos[agent_id]\n",
        "\n",
        "    replay_buffer.append((state, action, reward, next_state, done, truncated))\n",
        "    return next_state, reward, done, truncated, info\n",
        "\n",
        "# extra code – for reproducibility, and to generate the next figure\n",
        "env.reset(seed=42)\n",
        "np.random.seed(42)\n",
        "tf.random.set_seed(42)\n",
        "rewards = [] \n",
        "best_score = 0\n",
        "\n",
        "batch_size = 32\n",
        "discount_factor = 0.95\n",
        "optimizer = tf.keras.optimizers.Nadam(learning_rate=1e-2)\n",
        "loss_fn = tf.keras.losses.mean_squared_error\n",
        "\n",
        "def training_step(batch_size):\n",
        "    experiences = sample_experiences(batch_size)\n",
        "    states, actions, rewards, next_states, dones, truncateds = experiences\n",
        "\n",
        "    next_Q_values = model.predict(next_states, verbose=0)\n",
        "    max_next_Q_values = next_Q_values.max(axis=1)\n",
        "\n",
        "    runs = 1.0 - (dones | truncateds)  # episode is not done or truncated\n",
        "\n",
        "    target_Q_values = rewards + runs * discount_factor * max_next_Q_values\n",
        "    target_Q_values = target_Q_values.reshape(-1, 1)\n",
        "\n",
        "    mask = tf.one_hot(actions, num_actions)\n",
        "    #print(\"mask\", mask)\n",
        "    with tf.GradientTape() as tape:\n",
        "        all_Q_values = model(states)\n",
        "        Q_values = tf.reduce_sum(all_Q_values * mask, axis=1, keepdims=True)\n",
        "        loss = tf.reduce_mean(loss_fn(target_Q_values, Q_values))\n",
        "\n",
        "    grads = tape.gradient(loss, model.trainable_variables)\n",
        "    optimizer.apply_gradients(zip(grads, model.trainable_variables))\n",
        "\n",
        "for episode in range(600):\n",
        "    env.reset()    \n",
        "    for step in range(200):\n",
        "        for agid in env.agent_iter():\n",
        "            obs = env.observe(agid)\n",
        "            epsilon = max(1 - episode / 500, 0.01)\n",
        "            obs, reward, done, truncated, info = play_one_step(env, obs, epsilon, agid)\n",
        "            if done or truncated:\n",
        "                break\n",
        "\n",
        "    # extra code – displays debug info, stores data for the next figure, and\n",
        "    #              keeps track of the best model weights so far\n",
        "    print(f\"\\rEpisode: {episode + 1}, Steps: {step + 1}, eps: {epsilon:.3f}\",\n",
        "          end=\"\")\n",
        "    rewards.append(step)\n",
        "    if step >= best_score:\n",
        "        best_weights = model.get_weights()\n",
        "        best_score = step\n",
        "\n",
        "    if episode > 50:\n",
        "        training_step(batch_size)\n",
        "\n",
        "model.set_weights(best_weights)  # extra code – restores the best model weights"
      ],
      "metadata": {
        "id": "XObCdXPtAuuc"
      },
      "execution_count": null,
      "outputs": []
    },
    {
      "cell_type": "code",
      "source": [
        "import matplotlib.pyplot as plt\n",
        "# extra code – this cell generates and saves Figure 18–10\n",
        "plt.figure(figsize=(8, 4))\n",
        "plt.plot(rewards)\n",
        "plt.xlabel(\"Episode\", fontsize=14)\n",
        "plt.ylabel(\"Sum of rewards\", fontsize=14)\n",
        "plt.grid(True)\n",
        "#save_fig(\"dqn_rewards_plot\")\n",
        "plt.show()\n",
        "\n",
        "# extra code – shows an animation of the trained DQN playing one episode\n",
        "#show_one_episode(epsilon_greedy_policy)"
      ],
      "metadata": {
        "colab": {
          "base_uri": "https://localhost:8080/",
          "height": 393
        },
        "id": "0vSZwxML_0nq",
        "outputId": "dc8b7e19-607a-4f8c-87c8-03e68ff906da"
      },
      "execution_count": null,
      "outputs": [
        {
          "output_type": "display_data",
          "data": {
            "text/plain": [
              "<Figure size 800x400 with 1 Axes>"
            ],
            "image/png": "[encoded data removed]"
          },
          "metadata": {}
        }
      ]
    }
  ]
}